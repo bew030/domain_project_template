{
 "cells": [
  {
   "cell_type": "markdown",
   "metadata": {},
   "source": [
    "The following is the necessary imports needed for this example notebook"
   ]
  },
  {
   "cell_type": "code",
   "execution_count": 40,
   "metadata": {},
   "outputs": [],
   "source": [
    "import os\n",
    "import sys\n",
    "module_path = os.path.abspath(os.path.join('..'))\n",
    "if module_path not in sys.path:\n",
    "    sys.path.append(module_path)\n",
    "    \n",
    "from src.passengerBusABM import *\n",
    "from src.timelapse import * \n",
    "from src.visualization import *"
   ]
  },
  {
   "cell_type": "markdown",
   "metadata": {},
   "source": [
    "# INTRODUCTION"
   ]
  },
  {
   "cell_type": "markdown",
   "metadata": {},
   "source": [
    "This code is the beginning of our process of simulating our research paper (https://jamanetwork.com/journals/jamainternalmedicine/fullarticle/2770172). By using example code from the mesa Github provided by our mentor group, we were able to create a bus environment with stagnant bus drivers and include parameters that represent the breathing/coughing/sneezing condition as well as passing on infections. The environment can be modified by changing column conditions (number of columns on the left side, right side, and in the middle), changing row conditions (number of rows), and changing the distance between seats. "
   ]
  },
  {
   "cell_type": "markdown",
   "metadata": {},
   "source": [
    "The first item that we had to create was the code for modeling the agents (or passengers) within the bus."
   ]
  },
  {
   "cell_type": "markdown",
   "metadata": {},
   "source": [
    "Following that, we had to create a class for the environment and the model itself."
   ]
  },
  {
   "cell_type": "markdown",
   "metadata": {},
   "source": [
    "Now we need something to help us visualize the model during each step (or breath)."
   ]
  },
  {
   "cell_type": "markdown",
   "metadata": {},
   "source": [
    "We can now test these models and see how we can change the models!"
   ]
  },
  {
   "cell_type": "code",
   "execution_count": 41,
   "metadata": {},
   "outputs": [],
   "source": [
    "# EXAMPLE: say we have a bus with 3 columns on the left, 1 column in between, 2 columns to the right, and 15 rows.\n",
    "# the distance between the seats is 3 feet, and we're setting 2 people to be initially infected. \n",
    "breath_prob = 0.5\n",
    "cough_prob = 0.3\n",
    "sneeze_prob = 0.2\n",
    "\n",
    "breath_dist = 1 \n",
    "cough_dist = 2 \n",
    "sneeze_dist = 6\n",
    "\n",
    "prob_infected = 0.05 \n",
    "\n",
    "num_col_left = 3 \n",
    "num_col_mid = 1 \n",
    "num_col_right = 2 \n",
    "\n",
    "num_row = 15 \n",
    "\n",
    "dist_bw_seats = 3 \n",
    "\n",
    "num_infected = 2 "
   ]
  },
  {
   "cell_type": "code",
   "execution_count": 42,
   "metadata": {},
   "outputs": [],
   "source": [
    "nmodel = NaiveModel(busAgent, num_col_left, num_col_mid, num_col_right, num_row, dist_bw_seats, num_infected, \n",
    "                breath_prob, cough_prob, sneeze_prob, breath_dist, cough_dist, sneeze_dist, prob_infected)"
   ]
  },
  {
   "cell_type": "code",
   "execution_count": 43,
   "metadata": {},
   "outputs": [
    {
     "data": {
      "image/png": "[encoded data removed]",
      "text/plain": [
       "<Figure size 432x288 with 1 Axes>"
      ]
     },
     "metadata": {
      "needs_background": "light"
     },
     "output_type": "display_data"
    }
   ],
   "source": [
    "specific_step_model(nmodel, 0)"
   ]
  },
  {
   "cell_type": "markdown",
   "metadata": {},
   "source": [
    "We're interested to see how the model looks over time, so we wrote some code that helps us see each step."
   ]
  },
  {
   "cell_type": "markdown",
   "metadata": {},
   "source": [
    "lets take a look at an example:"
   ]
  },
  {
   "cell_type": "code",
   "execution_count": 44,
   "metadata": {},
   "outputs": [
    {
     "ename": "TypeError",
     "evalue": "visualize_step_model() takes 4 positional arguments but 5 were given",
     "output_type": "error",
     "traceback": [
      "\u001b[0;31m\u001b[0m",
      "\u001b[0;31mTypeError\u001b[0mTraceback (most recent call last)",
      "\u001b[0;32m<ipython-input-44-954ef5527c9d>\u001b[0m in \u001b[0;36m<module>\u001b[0;34m\u001b[0m\n\u001b[1;32m      7\u001b[0m \u001b[0mdestination\u001b[0m \u001b[0;34m=\u001b[0m \u001b[0;34m\"data/raw/\"\u001b[0m\u001b[0;34m\u001b[0m\u001b[0;34m\u001b[0m\u001b[0m\n\u001b[1;32m      8\u001b[0m \u001b[0mmain_folder\u001b[0m \u001b[0;34m=\u001b[0m \u001b[0;34m\"data\"\u001b[0m\u001b[0;34m\u001b[0m\u001b[0;34m\u001b[0m\u001b[0m\n\u001b[0;32m----> 9\u001b[0;31m \u001b[0mvisualize_step_model\u001b[0m\u001b[0;34m(\u001b[0m\u001b[0mnmodel\u001b[0m\u001b[0;34m,\u001b[0m \u001b[0mbreathes_per_min\u001b[0m\u001b[0;34m,\u001b[0m \u001b[0mtrip_duration\u001b[0m\u001b[0;34m,\u001b[0m \u001b[0mmain_folder\u001b[0m\u001b[0;34m,\u001b[0m \u001b[0mdestination\u001b[0m\u001b[0;34m)\u001b[0m\u001b[0;34m\u001b[0m\u001b[0;34m\u001b[0m\u001b[0m\n\u001b[0m",
      "\u001b[0;31mTypeError\u001b[0m: visualize_step_model() takes 4 positional arguments but 5 were given"
     ]
    }
   ],
   "source": [
    "# EXAMPLE: say we have a bus with 3 columns on the left, 1 column in between, 2 columns to the right, and 15 rows.\n",
    "# the distance between the seats is 3 feet, and we're setting 2 people to be initially infected. \n",
    "\n",
    "# we are then going to run a model for 5 'action moments'\n",
    "breathes_per_min = 14\n",
    "trip_duration = 2 \n",
    "destination = \"data/raw/\"\n",
    "main_folder = \"data\"\n",
    "visualize_step_model(nmodel, breathes_per_min, trip_duration, main_folder, destination)"
   ]
  },
  {
   "cell_type": "markdown",
   "metadata": {},
   "source": [
    "Sometimes we want to see a bunch of steps but we can't just scroll and see so many plots. Therefore we decided to make a function that also allows us to timelapse the model for a certain number of steps. "
   ]
  },
  {
   "cell_type": "code",
   "execution_count": 28,
   "metadata": {},
   "outputs": [],
   "source": [
    "input_source = \"data/raw/\"\n",
    "output_source = \"data/timelapse/\"\n",
    "timelapse_step_model(input_source, output_source)"
   ]
  },
  {
   "cell_type": "code",
   "execution_count": 34,
   "metadata": {},
   "outputs": [],
   "source": [
    "import os\n",
    "\n",
    "# Method 1\n",
    "for files in os.listdir():\n",
    "    if files == \"data\":\n",
    "        shutil.rmtree(\"data\")"
   ]
  },
  {
   "cell_type": "code",
   "execution_count": 33,
   "metadata": {},
   "outputs": [],
   "source": [
    "import shutil"
   ]
  },
  {
   "cell_type": "code",
   "execution_count": null,
   "metadata": {},
   "outputs": [],
   "source": []
  }
 ],
 "metadata": {
  "kernelspec": {
   "display_name": "Python 3",
   "language": "python",
   "name": "python3"
  },
  "language_info": {
   "codemirror_mode": {
    "name": "ipython",
    "version": 3
   },
   "file_extension": ".py",
   "mimetype": "text/x-python",
   "name": "python",
   "nbconvert_exporter": "python",
   "pygments_lexer": "ipython3",
   "version": "3.7.6"
  }
 },
 "nbformat": 4,
 "nbformat_minor": 4
}
